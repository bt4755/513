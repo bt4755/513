{
  "nbformat": 4,
  "nbformat_minor": 0,
  "metadata": {
    "colab": {
      "name": "513PROJ.ipynb",
      "provenance": [],
      "authorship_tag": "ABX9TyPuko6DTYj1gVFHD489yZt/",
      "include_colab_link": true
    },
    "kernelspec": {
      "name": "python3",
      "display_name": "Python 3"
    },
    "language_info": {
      "name": "python"
    }
  },
  "cells": [
    {
      "cell_type": "markdown",
      "metadata": {
        "id": "view-in-github",
        "colab_type": "text"
      },
      "source": [
        "<a href=\"https://colab.research.google.com/github/bt4755/513/blob/main/513PROJ.ipynb\" target=\"_parent\"><img src=\"https://colab.research.google.com/assets/colab-badge.svg\" alt=\"Open In Colab\"/></a>"
      ]
    },
    {
      "cell_type": "code",
      "execution_count": null,
      "metadata": {
        "id": "5l2eI6qLlAsH"
      },
      "outputs": [],
      "source": [
        "import torch\n",
        "import torch.nn as nn\n",
        "import torch.nn.functional as F\n",
        "import torch.optim as optim\n",
        "import os\n",
        "import sys\n",
        "from torchvision import datasets, transforms\n",
        "from torch.autograd import Variable\n",
        "import warnings\n",
        "warnings.filterwarnings(\"ignore\")\n",
        "from google.colab import drive\n",
        "import numpy as np\n",
        "import timeit\n",
        "import matplotlib.pyplot as plt\n",
        "import matplotlib\n",
        "drive.mount('/content/drive')\n",
        "from bitarray import bitarray\n",
        "import math\n",
        "from sklearn.utils import murmurhash3_32\n",
        "from random import randint"
      ]
    },
    {
      "cell_type": "code",
      "source": [
        "%cd \"/content/drive/My Drive/513/\"\n",
        "!python 'main.py'"
      ],
      "metadata": {
        "id": "y_b7t6xVlH8A"
      },
      "execution_count": null,
      "outputs": []
    }
  ]
}